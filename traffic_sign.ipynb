{
  "nbformat": 4,
  "nbformat_minor": 0,
  "metadata": {
    "colab": {
      "provenance": [],
      "machine_shape": "hm",
      "gpuType": "A100",
      "collapsed_sections": [
        "FSDuKKzJifoP",
        "PzEfeqcm3mDk"
      ],
      "authorship_tag": "ABX9TyMn94878lLZr1l3y8QgKiY5",
      "include_colab_link": true
    },
    "kernelspec": {
      "name": "python3",
      "display_name": "Python 3"
    },
    "language_info": {
      "name": "python"
    },
    "accelerator": "GPU",
    "gpuClass": "standard"
  },
  "cells": [
    {
      "cell_type": "markdown",
      "metadata": {
        "id": "view-in-github",
        "colab_type": "text"
      },
      "source": [
        "<a href=\"https://colab.research.google.com/github/csabi0312/Road-Traffic-sign-detection-and-classifiction-using-Python-Keras-and-CNN/blob/main/traffic_sign.ipynb\" target=\"_parent\"><img src=\"https://colab.research.google.com/assets/colab-badge.svg\" alt=\"Open In Colab\"/></a>"
      ]
    },
    {
      "cell_type": "markdown",
      "metadata": {
        "id": "FSDuKKzJifoP"
      },
      "source": [
        "# Packages"
      ]
    },
    {
      "cell_type": "code",
      "execution_count": 1,
      "metadata": {
        "colab": {
          "base_uri": "https://localhost:8080/"
        },
        "id": "z8_4di0LjZDn",
        "outputId": "8d53aa7d-87db-4e69-f85a-1663c4570b54"
      },
      "outputs": [
        {
          "output_type": "stream",
          "name": "stdout",
          "text": [
            "Mounted at /content/drive\n"
          ]
        }
      ],
      "source": [
        "from google.colab import drive\n",
        "drive.mount('/content/drive')"
      ]
    },
    {
      "cell_type": "code",
      "execution_count": 2,
      "metadata": {
        "colab": {
          "base_uri": "https://localhost:8080/"
        },
        "id": "MfhQ45uBVs0A",
        "outputId": "9f31d0bd-8d01-4103-b0df-9955420a4bd7"
      },
      "outputs": [
        {
          "output_type": "stream",
          "name": "stdout",
          "text": [
            "Looking in indexes: https://pypi.org/simple, https://us-python.pkg.dev/colab-wheels/public/simple/\n",
            "Collecting keras-tuner\n",
            "  Downloading keras_tuner-1.3.5-py3-none-any.whl (176 kB)\n",
            "\u001b[2K     \u001b[90m━━━━━━━━━━━━━━━━━━━━━━━━━━━━━━━━━━━━━━\u001b[0m \u001b[32m176.1/176.1 kB\u001b[0m \u001b[31m18.7 MB/s\u001b[0m eta \u001b[36m0:00:00\u001b[0m\n",
            "\u001b[?25hRequirement already satisfied: packaging in /usr/local/lib/python3.10/dist-packages (from keras-tuner) (23.1)\n",
            "Requirement already satisfied: requests in /usr/local/lib/python3.10/dist-packages (from keras-tuner) (2.27.1)\n",
            "Collecting kt-legacy (from keras-tuner)\n",
            "  Downloading kt_legacy-1.0.5-py3-none-any.whl (9.6 kB)\n",
            "Requirement already satisfied: urllib3<1.27,>=1.21.1 in /usr/local/lib/python3.10/dist-packages (from requests->keras-tuner) (1.26.15)\n",
            "Requirement already satisfied: certifi>=2017.4.17 in /usr/local/lib/python3.10/dist-packages (from requests->keras-tuner) (2022.12.7)\n",
            "Requirement already satisfied: charset-normalizer~=2.0.0 in /usr/local/lib/python3.10/dist-packages (from requests->keras-tuner) (2.0.12)\n",
            "Requirement already satisfied: idna<4,>=2.5 in /usr/local/lib/python3.10/dist-packages (from requests->keras-tuner) (3.4)\n",
            "Installing collected packages: kt-legacy, keras-tuner\n",
            "Successfully installed keras-tuner-1.3.5 kt-legacy-1.0.5\n"
          ]
        }
      ],
      "source": [
        "pip install keras-tuner"
      ]
    },
    {
      "cell_type": "code",
      "source": [
        "pip install xmltodict"
      ],
      "metadata": {
        "colab": {
          "base_uri": "https://localhost:8080/"
        },
        "id": "zKgXtqv64JFN",
        "outputId": "17efb5aa-1078-4e6f-abcc-d81d34b17bee"
      },
      "execution_count": 3,
      "outputs": [
        {
          "output_type": "stream",
          "name": "stdout",
          "text": [
            "Looking in indexes: https://pypi.org/simple, https://us-python.pkg.dev/colab-wheels/public/simple/\n",
            "Collecting xmltodict\n",
            "  Downloading xmltodict-0.13.0-py2.py3-none-any.whl (10.0 kB)\n",
            "Installing collected packages: xmltodict\n",
            "Successfully installed xmltodict-0.13.0\n"
          ]
        }
      ]
    },
    {
      "cell_type": "code",
      "execution_count": 4,
      "metadata": {
        "colab": {
          "base_uri": "https://localhost:8080/"
        },
        "id": "dZFuvQ6DimWE",
        "outputId": "11f38027-5434-4c75-85db-2890f434670a"
      },
      "outputs": [
        {
          "output_type": "stream",
          "name": "stdout",
          "text": [
            "Looking in indexes: https://pypi.org/simple, https://us-python.pkg.dev/colab-wheels/public/simple/\n",
            "Requirement already satisfied: tensorflow in /usr/local/lib/python3.10/dist-packages (2.12.0)\n",
            "Collecting tensorflow-gpu\n",
            "  Downloading tensorflow-gpu-2.12.0.tar.gz (2.6 kB)\n",
            "  \u001b[1;31merror\u001b[0m: \u001b[1msubprocess-exited-with-error\u001b[0m\n",
            "  \n",
            "  \u001b[31m×\u001b[0m \u001b[32mpython setup.py egg_info\u001b[0m did not run successfully.\n",
            "  \u001b[31m│\u001b[0m exit code: \u001b[1;36m1\u001b[0m\n",
            "  \u001b[31m╰─>\u001b[0m See above for output.\n",
            "  \n",
            "  \u001b[1;35mnote\u001b[0m: This error originates from a subprocess, and is likely not a problem with pip.\n",
            "  Preparing metadata (setup.py) ... \u001b[?25l\u001b[?25herror\n",
            "\u001b[1;31merror\u001b[0m: \u001b[1mmetadata-generation-failed\u001b[0m\n",
            "\n",
            "\u001b[31m×\u001b[0m Encountered error while generating package metadata.\n",
            "\u001b[31m╰─>\u001b[0m See above for output.\n",
            "\n",
            "\u001b[1;35mnote\u001b[0m: This is an issue with the package mentioned above, not pip.\n",
            "\u001b[1;36mhint\u001b[0m: See above for details.\n"
          ]
        }
      ],
      "source": [
        "!pip install tensorflow tensorflow-gpu opencv-python matplotlib"
      ]
    },
    {
      "cell_type": "code",
      "execution_count": 5,
      "metadata": {
        "id": "He8IZoSkim7r",
        "colab": {
          "base_uri": "https://localhost:8080/"
        },
        "outputId": "eddf9d94-0dcd-41d0-8ad4-b33e89568848"
      },
      "outputs": [
        {
          "output_type": "stream",
          "name": "stderr",
          "text": [
            "<ipython-input-5-ee2a7f0a0ce1>:16: DeprecationWarning: `import kerastuner` is deprecated, please use `import keras_tuner`.\n",
            "  from kerastuner.tuners import RandomSearch\n"
          ]
        }
      ],
      "source": [
        "import tensorflow as tf\n",
        "import numpy as np\n",
        "from matplotlib import pyplot as plt\n",
        "from tensorflow.keras.models import Model\n",
        "from tensorflow.keras.layers import Input, Conv2D, Dense, GlobalMaxPooling2D\n",
        "from tensorflow.keras.applications import VGG16\n",
        "from tensorflow.keras.metrics import Precision, Recall, Accuracy\n",
        "from tensorflow.keras.models import load_model\n",
        "from tensorflow.keras.utils import plot_model\n",
        "import pandas as pd\n",
        "from sklearn.model_selection import train_test_split\n",
        "from tensorflow.keras.utils import to_categorical\n",
        "from sklearn.metrics import accuracy_score, precision_score, recall_score, f1_score, roc_curve, confusion_matrix\n",
        "import keras_tuner\n",
        "from tensorflow.keras.optimizers import Adam\n",
        "from kerastuner.tuners import RandomSearch\n",
        "from tensorflow.keras.models import load_model\n",
        "import xml.etree.ElementTree as ET\n",
        "import cv2\n",
        "from google.colab.patches import cv2_imshow"
      ]
    },
    {
      "cell_type": "markdown",
      "source": [
        "# Dataset"
      ],
      "metadata": {
        "id": "PzEfeqcm3mDk"
      }
    },
    {
      "cell_type": "markdown",
      "source": [
        "## Labels"
      ],
      "metadata": {
        "id": "bB2oGeOv0HSA"
      }
    },
    {
      "cell_type": "code",
      "source": [
        "def xml_to_dict(xml_string):\n",
        "    root = ET.fromstring(xml_string)\n",
        "    result = {}\n",
        "    for child in root:\n",
        "        if len(child) == 0:\n",
        "            result[child.tag] = child.text\n",
        "        else:\n",
        "            result[child.tag] = xml_to_dict(ET.tostring(child))\n",
        "    return result"
      ],
      "metadata": {
        "id": "gGPDPqJA3n0c"
      },
      "execution_count": 6,
      "outputs": []
    },
    {
      "cell_type": "code",
      "source": [
        "def load_labels(file_path):\n",
        "    fileptr = open(file_path.numpy(),\"r\").read()\n",
        "    dicti=xml_to_dict(fileptr)\n",
        "\n",
        "    width=int(dicti[\"size\"][\"width\"])\n",
        "    height=int(dicti[\"size\"][\"height\"])\n",
        "    label=dicti[\"object\"][\"name\"]\n",
        "    xmin=int(dicti[\"object\"][\"bndbox\"][\"xmin\"])\n",
        "    ymin=int(dicti[\"object\"][\"bndbox\"][\"ymin\"])\n",
        "    xmax=int(dicti[\"object\"][\"bndbox\"][\"xmax\"])\n",
        "    ymax=int(dicti[\"object\"][\"bndbox\"][\"ymax\"])\n",
        "\n",
        "    if label==\"trafficlight\":\n",
        "      label2=[1,0,0,0]\n",
        "\n",
        "    if label==\"stop\":\n",
        "      label2=[0,1,0,0]\n",
        "    \n",
        "    if label==\"speedlimit\":\n",
        "      label2=[0,0,1,0]\n",
        "\n",
        "    if label==\"crosswalk\":\n",
        "      label2=[0,0,0,1]\n",
        "\n",
        "    y = label2, [xmin/width,ymin/height,xmax/width,ymax/height]\n",
        "    return y"
      ],
      "metadata": {
        "id": "49StXp8Jxjn0"
      },
      "execution_count": 7,
      "outputs": []
    },
    {
      "cell_type": "code",
      "source": [
        "labels = tf.data.Dataset.list_files(\"/content/drive/MyDrive/DataScience/Traffic_sign/annotations/*.xml\",shuffle=False)\n",
        "labels = labels.map(lambda x: tf.py_function(load_labels, [x],[tf.uint8, tf.float16]))"
      ],
      "metadata": {
        "id": "M5ju1VBSzJQi"
      },
      "execution_count": 8,
      "outputs": []
    },
    {
      "cell_type": "markdown",
      "source": [
        "##Images"
      ],
      "metadata": {
        "id": "NNbQnxtx7QpQ"
      }
    },
    {
      "cell_type": "code",
      "source": [
        "images = tf.keras.utils.image_dataset_from_directory(\n",
        "    \"/content/drive/MyDrive/DataScience/Traffic_sign/images\",\n",
        "    batch_size=None,\n",
        "    labels=None,\n",
        "    image_size=(256, 256),\n",
        "    shuffle=False\n",
        ")\n",
        "\n",
        "images = images.map(lambda x: x/255)"
      ],
      "metadata": {
        "colab": {
          "base_uri": "https://localhost:8080/"
        },
        "id": "8pbzCfuf0w-e",
        "outputId": "e1978faa-aefc-4990-fc6c-bdac085cd929"
      },
      "execution_count": 9,
      "outputs": [
        {
          "output_type": "stream",
          "name": "stdout",
          "text": [
            "Found 877 files belonging to 1 classes.\n"
          ]
        }
      ]
    },
    {
      "cell_type": "markdown",
      "source": [
        "##Zip, train/test/val split"
      ],
      "metadata": {
        "id": "aQHNNk4W7Un_"
      }
    },
    {
      "cell_type": "code",
      "source": [
        "data = tf.data.Dataset.zip((images,labels))\n",
        "data = data.shuffle(1000)\n",
        "data = data.batch(32)\n",
        "len(data)"
      ],
      "metadata": {
        "colab": {
          "base_uri": "https://localhost:8080/"
        },
        "id": "hvhi04Ke5qBe",
        "outputId": "25b1ac83-851a-40b1-ce8f-3e85ea082278"
      },
      "execution_count": 10,
      "outputs": [
        {
          "output_type": "execute_result",
          "data": {
            "text/plain": [
              "28"
            ]
          },
          "metadata": {},
          "execution_count": 10
        }
      ]
    },
    {
      "cell_type": "code",
      "source": [
        "train_size = int(len(data)*.7)\n",
        "val_size = int(len(data)*.2)\n",
        "test_size = int(len(data)*.1)\n",
        "print(train_size,val_size,test_size)"
      ],
      "metadata": {
        "colab": {
          "base_uri": "https://localhost:8080/"
        },
        "id": "soTZh6de756P",
        "outputId": "85307620-e4f6-4872-e2b9-7898a670ab35"
      },
      "execution_count": 11,
      "outputs": [
        {
          "output_type": "stream",
          "name": "stdout",
          "text": [
            "19 5 2\n"
          ]
        }
      ]
    },
    {
      "cell_type": "code",
      "source": [
        "train = data.take(train_size)\n",
        "val = data.skip(train_size).take(val_size)\n",
        "test = data.skip(train_size+val_size).take(test_size)"
      ],
      "metadata": {
        "id": "jdFNbsr78JMl"
      },
      "execution_count": 12,
      "outputs": []
    },
    {
      "cell_type": "markdown",
      "source": [
        "# Model"
      ],
      "metadata": {
        "id": "8qomNK2L8ZTC"
      }
    },
    {
      "cell_type": "markdown",
      "source": [
        "## VGG16"
      ],
      "metadata": {
        "id": "MiXEcHsy8pB1"
      }
    },
    {
      "cell_type": "code",
      "source": [
        "vgg = VGG16(include_top=False)\n",
        "vgg.summary()"
      ],
      "metadata": {
        "colab": {
          "base_uri": "https://localhost:8080/"
        },
        "id": "O-uQXJCZ8anQ",
        "outputId": "a7ea4d75-c0f4-4b8d-903b-b6539d3791db"
      },
      "execution_count": 13,
      "outputs": [
        {
          "output_type": "stream",
          "name": "stdout",
          "text": [
            "Downloading data from https://storage.googleapis.com/tensorflow/keras-applications/vgg16/vgg16_weights_tf_dim_ordering_tf_kernels_notop.h5\n",
            "58889256/58889256 [==============================] - 4s 0us/step\n",
            "Model: \"vgg16\"\n",
            "_________________________________________________________________\n",
            " Layer (type)                Output Shape              Param #   \n",
            "=================================================================\n",
            " input_1 (InputLayer)        [(None, None, None, 3)]   0         \n",
            "                                                                 \n",
            " block1_conv1 (Conv2D)       (None, None, None, 64)    1792      \n",
            "                                                                 \n",
            " block1_conv2 (Conv2D)       (None, None, None, 64)    36928     \n",
            "                                                                 \n",
            " block1_pool (MaxPooling2D)  (None, None, None, 64)    0         \n",
            "                                                                 \n",
            " block2_conv1 (Conv2D)       (None, None, None, 128)   73856     \n",
            "                                                                 \n",
            " block2_conv2 (Conv2D)       (None, None, None, 128)   147584    \n",
            "                                                                 \n",
            " block2_pool (MaxPooling2D)  (None, None, None, 128)   0         \n",
            "                                                                 \n",
            " block3_conv1 (Conv2D)       (None, None, None, 256)   295168    \n",
            "                                                                 \n",
            " block3_conv2 (Conv2D)       (None, None, None, 256)   590080    \n",
            "                                                                 \n",
            " block3_conv3 (Conv2D)       (None, None, None, 256)   590080    \n",
            "                                                                 \n",
            " block3_pool (MaxPooling2D)  (None, None, None, 256)   0         \n",
            "                                                                 \n",
            " block4_conv1 (Conv2D)       (None, None, None, 512)   1180160   \n",
            "                                                                 \n",
            " block4_conv2 (Conv2D)       (None, None, None, 512)   2359808   \n",
            "                                                                 \n",
            " block4_conv3 (Conv2D)       (None, None, None, 512)   2359808   \n",
            "                                                                 \n",
            " block4_pool (MaxPooling2D)  (None, None, None, 512)   0         \n",
            "                                                                 \n",
            " block5_conv1 (Conv2D)       (None, None, None, 512)   2359808   \n",
            "                                                                 \n",
            " block5_conv2 (Conv2D)       (None, None, None, 512)   2359808   \n",
            "                                                                 \n",
            " block5_conv3 (Conv2D)       (None, None, None, 512)   2359808   \n",
            "                                                                 \n",
            " block5_pool (MaxPooling2D)  (None, None, None, 512)   0         \n",
            "                                                                 \n",
            "=================================================================\n",
            "Total params: 14,714,688\n",
            "Trainable params: 14,714,688\n",
            "Non-trainable params: 0\n",
            "_________________________________________________________________\n"
          ]
        }
      ]
    },
    {
      "cell_type": "markdown",
      "source": [
        "## Model building"
      ],
      "metadata": {
        "id": "bQcuwlrn8tbA"
      }
    },
    {
      "cell_type": "code",
      "source": [
        "def build_model():\n",
        "  input_layer = Input(shape=(256,256,3))\n",
        "\n",
        "  vgg = VGG16(include_top=False)(input_layer)\n",
        "\n",
        "  #Classification\n",
        "  f1 = GlobalMaxPooling2D()(vgg)\n",
        "  class1 = Dense(2048, activation=\"relu\")(f1)\n",
        "  class2 = Dense(4, activation=\"softmax\")(class1)\n",
        "\n",
        "  #Bounding box\n",
        "  f2 = GlobalMaxPooling2D()(vgg)\n",
        "  regress1 = Dense(2048, activation=\"relu\")(f2)\n",
        "  regress2 = Dense(4, activation=\"sigmoid\")(regress1)\n",
        "\n",
        "\n",
        "  signdetector = Model(inputs=input_layer, outputs=[class2,regress2])\n",
        "  return signdetector"
      ],
      "metadata": {
        "id": "wEmk2tLN8lxP"
      },
      "execution_count": 14,
      "outputs": []
    },
    {
      "cell_type": "code",
      "source": [
        "signdetector = build_model()"
      ],
      "metadata": {
        "id": "o26OExZy9viP"
      },
      "execution_count": 15,
      "outputs": []
    },
    {
      "cell_type": "code",
      "source": [
        "signdetector.summary()"
      ],
      "metadata": {
        "colab": {
          "base_uri": "https://localhost:8080/"
        },
        "id": "34S9LpWW-Svm",
        "outputId": "0da5f57b-458b-43ae-c222-8d9d24f498ea"
      },
      "execution_count": 16,
      "outputs": [
        {
          "output_type": "stream",
          "name": "stdout",
          "text": [
            "Model: \"model\"\n",
            "__________________________________________________________________________________________________\n",
            " Layer (type)                   Output Shape         Param #     Connected to                     \n",
            "==================================================================================================\n",
            " input_2 (InputLayer)           [(None, 256, 256, 3  0           []                               \n",
            "                                )]                                                                \n",
            "                                                                                                  \n",
            " vgg16 (Functional)             (None, None, None,   14714688    ['input_2[0][0]']                \n",
            "                                512)                                                              \n",
            "                                                                                                  \n",
            " global_max_pooling2d (GlobalMa  (None, 512)         0           ['vgg16[0][0]']                  \n",
            " xPooling2D)                                                                                      \n",
            "                                                                                                  \n",
            " global_max_pooling2d_1 (Global  (None, 512)         0           ['vgg16[0][0]']                  \n",
            " MaxPooling2D)                                                                                    \n",
            "                                                                                                  \n",
            " dense (Dense)                  (None, 2048)         1050624     ['global_max_pooling2d[0][0]']   \n",
            "                                                                                                  \n",
            " dense_2 (Dense)                (None, 2048)         1050624     ['global_max_pooling2d_1[0][0]'] \n",
            "                                                                                                  \n",
            " dense_1 (Dense)                (None, 4)            8196        ['dense[0][0]']                  \n",
            "                                                                                                  \n",
            " dense_3 (Dense)                (None, 4)            8196        ['dense_2[0][0]']                \n",
            "                                                                                                  \n",
            "==================================================================================================\n",
            "Total params: 16,832,328\n",
            "Trainable params: 16,832,328\n",
            "Non-trainable params: 0\n",
            "__________________________________________________________________________________________________\n"
          ]
        }
      ]
    },
    {
      "cell_type": "markdown",
      "source": [
        "# Losses and Adam"
      ],
      "metadata": {
        "id": "enOy7qobBySO"
      }
    },
    {
      "cell_type": "code",
      "source": [
        "batches_per_epoch = len(train)\n",
        "lr_decay = (1./0.75 -1)/batches_per_epoch\n",
        "opt = tf.keras.optimizers.Adam(learning_rate=0.0001, weight_decay=lr_decay)"
      ],
      "metadata": {
        "id": "Q4HPPh6j_B2n"
      },
      "execution_count": 17,
      "outputs": []
    },
    {
      "cell_type": "code",
      "source": [
        "def localization_loss(y_true,yhat):\n",
        "  delta_coord = tf.reduce_sum(tf.square(y_true[:,:2] - yhat[:,:2]))\n",
        "\n",
        "  h_true = y_true[:,3] - y_true[:,1]\n",
        "  w_true = y_true[:,2] - y_true[:,0]\n",
        "\n",
        "  h_pred = yhat[:,3] - yhat[:,1]\n",
        "  w_pred = yhat[:,2] - yhat[:,0]\n",
        "\n",
        "  delta_size = tf.reduce_sum(tf.square(w_true-w_pred) + tf.square(h_true-h_pred))\n",
        "\n",
        "  return delta_coord + delta_size"
      ],
      "metadata": {
        "id": "zN2EinFcB7Vs"
      },
      "execution_count": 18,
      "outputs": []
    },
    {
      "cell_type": "code",
      "source": [
        "classloss = tf.keras.losses.CategoricalCrossentropy()\n",
        "regressloss = localization_loss"
      ],
      "metadata": {
        "id": "FjyytTxsDbKO"
      },
      "execution_count": 19,
      "outputs": []
    },
    {
      "cell_type": "markdown",
      "source": [
        "# Training"
      ],
      "metadata": {
        "id": "GKGjYdk9Ds1g"
      }
    },
    {
      "cell_type": "code",
      "source": [
        "class Signdetector(Model):\n",
        "  def __init__(self,signdetector, **kwargs):\n",
        "    super().__init__(**kwargs)\n",
        "    self.model = signdetector\n",
        "\n",
        "  def compile(self, opt, classloss, localizationloss, **kwargs):\n",
        "    super().compile(**kwargs)\n",
        "    self.closs = classloss\n",
        "    self.lloss = localizationloss\n",
        "    self.opt = opt\n",
        "\n",
        "  def train_step(self, batch, **kwargs):\n",
        "\n",
        "    X, y = batch\n",
        "\n",
        "    with tf.GradientTape() as tape:\n",
        "      classes, coords = self.model(X, training=True)\n",
        "\n",
        "      batch_classloss = self.closs(y[0], classes)\n",
        "      batch_localizationloss = self.lloss(tf.cast(y[1], tf.float32), coords)\n",
        "\n",
        "      total_loss = batch_localizationloss + 0.5*batch_classloss\n",
        "\n",
        "      grad = tape.gradient(total_loss, self.model.trainable_variables)\n",
        "\n",
        "\n",
        "    self.opt.apply_gradients(zip(grad, self.model.trainable_variables))\n",
        "\n",
        "    return {\"total_loss\":total_loss, \"class_loss\":batch_classloss, \"regress_loss\":batch_localizationloss}\n",
        "\n",
        "  def test_step(self, batch, **kwargs):\n",
        "    X, y = batch\n",
        "\n",
        "    classes, coords = self.model(X, training=False)\n",
        "        \n",
        "    batch_classloss = self.closs(y[0], classes)\n",
        "    batch_localizationloss = self.lloss(tf.cast(y[1], tf.float32), coords)\n",
        "    total_loss = batch_localizationloss+0.5*batch_classloss\n",
        "        \n",
        "    return {\"total_loss\":total_loss, \"class_loss\":batch_classloss, \"regress_loss\":batch_localizationloss}\n",
        "\n",
        "\n",
        "  def call(self, X, **kwargs):\n",
        "    return self.model(X, **kwargs)"
      ],
      "metadata": {
        "id": "VCflSnnvDmtF"
      },
      "execution_count": 20,
      "outputs": []
    },
    {
      "cell_type": "code",
      "source": [
        "model = Signdetector(signdetector)\n",
        "model.compile(opt, classloss, regressloss)"
      ],
      "metadata": {
        "id": "71P2kUY9F83-"
      },
      "execution_count": 21,
      "outputs": []
    },
    {
      "cell_type": "code",
      "source": [
        "hist = model.fit(train, epochs=20, validation_data=val)"
      ],
      "metadata": {
        "colab": {
          "base_uri": "https://localhost:8080/"
        },
        "id": "O7MGjOuPGFu8",
        "outputId": "d42ada1a-482d-4580-c06b-b5bd26c99641"
      },
      "execution_count": null,
      "outputs": [
        {
          "output_type": "stream",
          "name": "stdout",
          "text": [
            "Epoch 1/20\n"
          ]
        }
      ]
    },
    {
      "cell_type": "code",
      "source": [
        "fig, ax = plt.subplots(ncols=3, figsize=(20,5))\n",
        "\n",
        "ax[0].plot(hist.history['total_loss'], color='teal', label='loss')\n",
        "ax[0].plot(hist.history['val_total_loss'], color='orange', label='val loss')\n",
        "ax[0].title.set_text('Loss')\n",
        "ax[0].legend()\n",
        "\n",
        "ax[1].plot(hist.history['class_loss'], color='teal', label='class loss')\n",
        "ax[1].plot(hist.history['val_class_loss'], color='orange', label='val class loss')\n",
        "ax[1].title.set_text('Classification Loss')\n",
        "ax[1].legend()\n",
        "\n",
        "ax[2].plot(hist.history['regress_loss'], color='teal', label='regress loss')\n",
        "ax[2].plot(hist.history['val_regress_loss'], color='orange', label='val regress loss')\n",
        "ax[2].title.set_text('Regression Loss')\n",
        "ax[2].legend()\n",
        "\n",
        "plt.show()"
      ],
      "metadata": {
        "id": "r2nJd2jSGR68"
      },
      "execution_count": null,
      "outputs": []
    },
    {
      "cell_type": "markdown",
      "source": [
        "# Test data"
      ],
      "metadata": {
        "id": "-YEAtm3mLU0i"
      }
    },
    {
      "cell_type": "code",
      "source": [
        "test_sample = test.as_numpy_iterator().next()\n",
        "yhat = signdetector.predict(test_sample[0])"
      ],
      "metadata": {
        "id": "BRoIGFNLK_GH"
      },
      "execution_count": null,
      "outputs": []
    },
    {
      "cell_type": "code",
      "source": [
        "fig, ax = plt.subplots(ncols=4, figsize=(20,20))\n",
        "for idx in range(4):\n",
        "  sample_image = 255*test_sample[0][idx]\n",
        "  sample_coords = yhat[1][idx]\n",
        "\n",
        "  label = np.argmax(yhat[0][idx])\n",
        "\n",
        "  cv2.rectangle(sample_image,\n",
        "                tuple(np.multiply(sample_coords[:2], [256,256]).astype(int)),\n",
        "                tuple(np.multiply(sample_coords[2:], [256,256]).astype(int)),\n",
        "                (255,0,0), 2)\n",
        "  ax[idx].imshow(sample_image)\n"
      ],
      "metadata": {
        "id": "kCemc9J-Lskk"
      },
      "execution_count": null,
      "outputs": []
    }
  ]
}